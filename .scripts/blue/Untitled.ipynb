{
 "cells": [
  {
   "cell_type": "code",
   "execution_count": 1,
   "id": "59be6b38",
   "metadata": {
    "ExecuteTime": {
     "end_time": "2021-11-12T16:10:08.237631Z",
     "start_time": "2021-11-12T16:10:08.219971Z"
    }
   },
   "outputs": [],
   "source": [
    "import bluetooth"
   ]
  },
  {
   "cell_type": "code",
   "execution_count": 3,
   "id": "aeeaf58c",
   "metadata": {
    "ExecuteTime": {
     "end_time": "2021-11-12T16:11:05.981022Z",
     "start_time": "2021-11-12T16:10:55.072718Z"
    }
   },
   "outputs": [
    {
     "data": {
      "text/plain": [
       "[('D0:49:7C:41:D7:FB', 'OnePlus Nord2 5G')]"
      ]
     },
     "execution_count": 3,
     "metadata": {},
     "output_type": "execute_result"
    }
   ],
   "source": [
    "bluetooth.discover_devices(lookup_names=True)"
   ]
  },
  {
   "cell_type": "code",
   "execution_count": 4,
   "id": "4eda5ccc",
   "metadata": {
    "ExecuteTime": {
     "end_time": "2021-11-12T16:12:59.764501Z",
     "start_time": "2021-11-12T16:12:48.770270Z"
    }
   },
   "outputs": [
    {
     "data": {
      "text/plain": [
       "[('D0:49:7C:41:D7:FB', 'OnePlus Nord2 5G')]"
      ]
     },
     "execution_count": 4,
     "metadata": {},
     "output_type": "execute_result"
    }
   ],
   "source": [
    "bluetooth.discover_devices(duration=8, lookup_names=True, flush_cache=True, lookup_class=False)"
   ]
  },
  {
   "cell_type": "code",
   "execution_count": 5,
   "id": "a1eec331",
   "metadata": {
    "ExecuteTime": {
     "end_time": "2021-11-12T16:13:50.131310Z",
     "start_time": "2021-11-12T16:13:50.069116Z"
    }
   },
   "outputs": [
    {
     "ename": "ModuleNotFoundError",
     "evalue": "No module named 'gattlib'",
     "output_type": "error",
     "traceback": [
      "\u001b[0;31m---------------------------------------------------------------------------\u001b[0m",
      "\u001b[0;31mModuleNotFoundError\u001b[0m                       Traceback (most recent call last)",
      "\u001b[0;32m/tmp/ipykernel_109227/3495396971.py\u001b[0m in \u001b[0;36m<module>\u001b[0;34m\u001b[0m\n\u001b[0;32m----> 1\u001b[0;31m \u001b[0;32mfrom\u001b[0m \u001b[0mbluetooth\u001b[0m\u001b[0;34m.\u001b[0m\u001b[0mble\u001b[0m \u001b[0;32mimport\u001b[0m \u001b[0mDiscoveryService\u001b[0m\u001b[0;34m\u001b[0m\u001b[0;34m\u001b[0m\u001b[0m\n\u001b[0m",
      "\u001b[0;32m~/devel/.venv/lib/python3.9/site-packages/bluetooth/ble.py\u001b[0m in \u001b[0;36m<module>\u001b[0;34m\u001b[0m\n\u001b[0;32m----> 1\u001b[0;31m \u001b[0;32mfrom\u001b[0m \u001b[0mgattlib\u001b[0m \u001b[0;32mimport\u001b[0m \u001b[0;34m*\u001b[0m\u001b[0;34m\u001b[0m\u001b[0;34m\u001b[0m\u001b[0m\n\u001b[0m\u001b[1;32m      2\u001b[0m \u001b[0;34m\u001b[0m\u001b[0m\n",
      "\u001b[0;31mModuleNotFoundError\u001b[0m: No module named 'gattlib'"
     ]
    }
   ],
   "source": [
    "from bluetooth.ble import DiscoveryService"
   ]
  },
  {
   "cell_type": "code",
   "execution_count": null,
   "id": "23742a30",
   "metadata": {},
   "outputs": [],
   "source": []
  }
 ],
 "metadata": {
  "kernelspec": {
   "display_name": "Python 3 (ipykernel)",
   "language": "python",
   "name": "python3"
  },
  "language_info": {
   "codemirror_mode": {
    "name": "ipython",
    "version": 3
   },
   "file_extension": ".py",
   "mimetype": "text/x-python",
   "name": "python",
   "nbconvert_exporter": "python",
   "pygments_lexer": "ipython3",
   "version": "3.9.7"
  },
  "varInspector": {
   "cols": {
    "lenName": 16,
    "lenType": 16,
    "lenVar": 40
   },
   "kernels_config": {
    "python": {
     "delete_cmd_postfix": "",
     "delete_cmd_prefix": "del ",
     "library": "var_list.py",
     "varRefreshCmd": "print(var_dic_list())"
    },
    "r": {
     "delete_cmd_postfix": ") ",
     "delete_cmd_prefix": "rm(",
     "library": "var_list.r",
     "varRefreshCmd": "cat(var_dic_list()) "
    }
   },
   "types_to_exclude": [
    "module",
    "function",
    "builtin_function_or_method",
    "instance",
    "_Feature"
   ],
   "window_display": false
  }
 },
 "nbformat": 4,
 "nbformat_minor": 5
}
